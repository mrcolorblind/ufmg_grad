{
 "cells": [
  {
   "cell_type": "code",
   "execution_count": 71,
   "metadata": {},
   "outputs": [
    {
     "name": "stdin",
     "output_type": "stream",
     "text": [
      "Insira sua entrada: \n",
      " 1\n"
     ]
    },
    {
     "ename": "ValueError",
     "evalue": "not enough values to unpack (expected 2, got 1)",
     "output_type": "error",
     "traceback": [
      "\u001b[0;31m---------------------------------------------------------------------------\u001b[0m",
      "\u001b[0;31mValueError\u001b[0m                                Traceback (most recent call last)",
      "\u001b[0;32m<ipython-input-71-a268f4c0a712>\u001b[0m in \u001b[0;36m<module>\u001b[0;34m\u001b[0m\n\u001b[1;32m      1\u001b[0m \u001b[0;31m# Reading and processing data\u001b[0m\u001b[0;34m\u001b[0m\u001b[0;34m\u001b[0m\u001b[0;34m\u001b[0m\u001b[0m\n\u001b[1;32m      2\u001b[0m \u001b[0minp\u001b[0m          \u001b[0;34m=\u001b[0m \u001b[0minput\u001b[0m\u001b[0;34m(\u001b[0m\u001b[0;34m\"Insira sua entrada: \\n\"\u001b[0m\u001b[0;34m)\u001b[0m\u001b[0;34m\u001b[0m\u001b[0;34m\u001b[0m\u001b[0m\n\u001b[0;32m----> 3\u001b[0;31m \u001b[0mtm\u001b[0m\u001b[0;34m,\u001b[0m \u001b[0mword\u001b[0m     \u001b[0;34m=\u001b[0m \u001b[0minp\u001b[0m\u001b[0;34m.\u001b[0m\u001b[0msplit\u001b[0m\u001b[0;34m(\u001b[0m\u001b[0;34m\"000\"\u001b[0m\u001b[0;34m,\u001b[0m \u001b[0;36m1\u001b[0m\u001b[0;34m)\u001b[0m\u001b[0;34m\u001b[0m\u001b[0;34m\u001b[0m\u001b[0m\n\u001b[0m\u001b[1;32m      4\u001b[0m \u001b[0mtransString\u001b[0m  \u001b[0;34m=\u001b[0m \u001b[0mtm\u001b[0m\u001b[0;34m.\u001b[0m\u001b[0msplit\u001b[0m\u001b[0;34m(\u001b[0m\u001b[0;34m'00'\u001b[0m\u001b[0;34m)\u001b[0m\u001b[0;34m\u001b[0m\u001b[0;34m\u001b[0m\u001b[0m\n\u001b[1;32m      5\u001b[0m \u001b[0mpositions\u001b[0m    \u001b[0;34m=\u001b[0m \u001b[0mword\u001b[0m\u001b[0;34m.\u001b[0m\u001b[0msplit\u001b[0m\u001b[0;34m(\u001b[0m\u001b[0;34m'0'\u001b[0m\u001b[0;34m)\u001b[0m\u001b[0;34m\u001b[0m\u001b[0;34m\u001b[0m\u001b[0m\n",
      "\u001b[0;31mValueError\u001b[0m: not enough values to unpack (expected 2, got 1)"
     ]
    }
   ],
   "source": [
    "# Reading and processing data\n",
    "inp          = input(\"Insira sua entrada: \\n\")\n",
    "tm, word     = inp.split(\"000\", 1)\n",
    "transString  = tm.split('00')\n",
    "positions    = word.split('0')\n",
    "fStates      = transString[0].split('0')\n",
    "transString  = transString[1:]"
   ]
  },
  {
   "cell_type": "code",
   "execution_count": 69,
   "metadata": {},
   "outputs": [],
   "source": [
    "# Creating dictionary of transitions\n",
    "trans = dict()\n",
    "for string in transString:\n",
    "    tList = string.split('0')\n",
    "    key   = (tList[0] + \".\" + tList[1])\n",
    "    value = (tList[2] + \".\" + tList[3] + \".\" + tList[4])\n",
    "    trans[key] = value\n",
    "    \n",
    "# Creating tape\n",
    "tape = ['1']\n",
    "tape += positions\n",
    "tape += ['11' for i in range(1000 - len(tape))]"
   ]
  },
  {
   "cell_type": "code",
   "execution_count": 70,
   "metadata": {},
   "outputs": [
    {
     "name": "stdout",
     "output_type": "stream",
     "text": [
      "REJEITADO\n"
     ]
    }
   ],
   "source": [
    "# Estado e posição iniciais\n",
    "state = '1'\n",
    "pos   = 1\n",
    "\n",
    "for tries in range(1000):\n",
    "    if pos >= 1000: \n",
    "        state = '--'\n",
    "        break\n",
    "    # Deciding symbol\n",
    "    symbol = tape[pos]\n",
    "    key = (state + \".\" + symbol)\n",
    "    \n",
    "    if key in trans:\n",
    "        e, b, d   = trans[key].split(\".\", 2)\n",
    "        state     = e\n",
    "        tape[pos] = b\n",
    "        if(d == '11'): pos -= 1\n",
    "        else: pos += 1\n",
    "        \n",
    "    else:\n",
    "        break\n",
    "        \n",
    "if state in fStates:\n",
    "    print(\"ACEITO\")\n",
    "else:\n",
    "    print(\"REJEITADO\")"
   ]
  }
 ],
 "metadata": {
  "kernelspec": {
   "display_name": "Python 3",
   "language": "python",
   "name": "python3"
  },
  "language_info": {
   "codemirror_mode": {
    "name": "ipython",
    "version": 3
   },
   "file_extension": ".py",
   "mimetype": "text/x-python",
   "name": "python",
   "nbconvert_exporter": "python",
   "pygments_lexer": "ipython3",
   "version": "3.8.5"
  }
 },
 "nbformat": 4,
 "nbformat_minor": 4
}
